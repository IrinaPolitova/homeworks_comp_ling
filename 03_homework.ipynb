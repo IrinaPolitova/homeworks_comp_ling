{
 "cells": [
  {
   "cell_type": "markdown",
   "id": "1c678e33-7efc-47da-bd84-890daf4b5beb",
   "metadata": {},
   "source": [
    "# Задание 1 (5 балла)\n",
    "\n",
    "Имплементируйте алгоритм Леска (описание есть в семинаре) и оцените качество его работы на датасете `data/corpus_wsd_50k.txt`\n",
    "\n",
    "В качестве метрики близости вы должны попробовать два подхода:\n",
    "\n",
    "1) Jaccard score на множествах слов (определений и контекста)\n",
    "2) Cosine distance на эмбедингах sentence_transformers\n",
    "\n",
    "В качестве метрики используйте accuracy (% правильных ответов). Предсказывайте только многозначные слова в датасете\n",
    "\n",
    "Контекст вы можете определить самостоятельно (окно вокруг целевого слова или все предложение). Также можете поэкспериментировать с предобработкой для обоих методов."
   ]
  },
  {
   "cell_type": "code",
   "execution_count": 1,
   "id": "5814a100-9ba8-4787-b0ac-73fa657a3fa4",
   "metadata": {},
   "outputs": [
    {
     "name": "stderr",
     "output_type": "stream",
     "text": [
      "[nltk_data] Downloading package wordnet to\n",
      "[nltk_data]     C:\\Users\\irina\\AppData\\Roaming\\nltk_data...\n",
      "[nltk_data]   Package wordnet is already up-to-date!\n"
     ]
    }
   ],
   "source": [
    "# подгружаем библиотеки\n",
    "\n",
    "import nltk\n",
    "nltk.download('wordnet')\n",
    "from nltk.corpus import wordnet as wn"
   ]
  },
  {
   "cell_type": "code",
   "execution_count": 2,
   "id": "1c70deda-7634-49b8-8b58-dd9e869a2af6",
   "metadata": {},
   "outputs": [],
   "source": [
    "# подгружаем корпус\n",
    "\n",
    "corpus_wsd = []\n",
    "corpus = open('corpus_wsd_50k.txt').read().split('\\n\\n')\n",
    "for sent in corpus:\n",
    "    corpus_wsd.append([s.split('\\t') for s in sent.split('\\n')])"
   ]
  },
  {
   "cell_type": "code",
   "execution_count": 3,
   "id": "a620415b-c942-4f83-856b-b4f02663401e",
   "metadata": {},
   "outputs": [
    {
     "name": "stdout",
     "output_type": "stream",
     "text": [
      "0.34106947101657686\n"
     ]
    }
   ],
   "source": [
    "# сначала попробуем Jaccard\n",
    "\n",
    "correct_guesses = 0 # счетчик угаданных значений\n",
    "all_guesses = 0 # счетчик попыток угадать значение\n",
    "\n",
    "for sentence in corpus_wsd: # бежим по предложениям\n",
    "    for word in sentence: # внутри предложения бежим по словам\n",
    "        if word[0] != '': # рассматриваем только многозначные слова - у которых в первой ячейке что-то написано\n",
    "            sentence_string = '' # здесь будет строкой лежать контекст - всё предложение, в котором целевое слово заменено на нижнее подчеркивание\n",
    "            for word_1 in sentence:\n",
    "                if word_1 != word:\n",
    "                    sentence_string += word_1[2] + ' ' # для всех слов, кроме целевого, прибавляем их в контекст\n",
    "                else:\n",
    "                    sentence_string += '_ ' # целевое слово не добавляем, добавляем вместо него нижнее подчеркивание\n",
    "\n",
    "            # на этом этапе мы для данного слова имеем контекст, например: \"What a _ day!\" для слова word = \"beautyful\"\n",
    "            # далее будем доставать все возможные определения для этого слова и сравнивать каждое из них с контекстом:\n",
    "            \n",
    "            all_jaccards = [] # здесь будет лежать список всех Жаккаров\n",
    "            \n",
    "            for synset in wn.synsets(word[1]): # идем по синсетам этого слова (здесь берем word[1], поскольку там лежит лемма слова)\n",
    "                new_definition = synset.definition() # вытаскиваем определения этого синсета\n",
    "\n",
    "                # считаем метрику Жаккара для этого определения и контекста - контекст лежит в sentence_string:\n",
    "                \n",
    "                new_intersection = (set(new_definition.split()) & set(sentence_string.split()))\n",
    "                new_union = (set(new_definition.split()) | set(sentence_string.split()))\n",
    "                new_jaccard =  len(new_intersection) / len(new_union) # посчитали метрику Жаккара сюда\n",
    "                all_jaccards.append([synset, new_jaccard]) # добавили в список Жаккаров сам синсет + метрику Жаккара для него\n",
    "\n",
    "            # на этом этапе у нас есть список вида [[synset1, jaccard1], [synset2, jaccard2], ...]\n",
    "            # далее будем выискивать тот синсет / те синсеты, при котором / которых метрика Жаккара принимает наибольшее значение\n",
    "            # важно: таких синсетов может быть несколько, и я бы хотела учесть их все, а не взять какой-то один случайный из них\n",
    "\n",
    "            max_synsets = [] # список таких синсетов\n",
    "            \n",
    "            max_jaccard = all_jaccards[0][1] # сюда положим предварительное максимальное значение Жаккара\n",
    "            \n",
    "            for jaccard in all_jaccards:\n",
    "                if jaccard[1] == max_jaccard: # если нашли что-то с таким же Жаккаром, добавляем синсет в список max_synsets\n",
    "                    max_synsets.append(jaccard[0])\n",
    "                elif jaccard[1] > max_jaccard: # если нашли что-то с Жаккаром побольше, то меняем max_jaccard и полностью заменяем max_synset\n",
    "                    max_jaccard = jaccard[1]\n",
    "                    max_synsets = []\n",
    "                    max_synsets.append(jaccard[0])\n",
    "\n",
    "            # на этом этапе мы знаем синсет(ы) с наибольшим значением метрики Жаккара\n",
    "            # нам осталось сравнить эти синсеты с word[0] - то есть с тэгом многозначного слова, с которым мы работаем\n",
    "            \n",
    "            list_of_keys = [] # это список тэгов (поскольку у одного синсета может быть несколько лемм, а потому несколько тэгов)\n",
    "\n",
    "            for synset in max_synsets: # идем по всем синсетам с максимальным значением Жаккара\n",
    "                for lemma in synset.lemmas(): # идем по леммам каждого такого синсета\n",
    "                    list_of_keys.append(lemma.key()) # для каждой леммы вытаскиваем ее тэг\n",
    "\n",
    "            # сейчас у нас есть список тэгов данного синсета, и нам нужно понять, есть ли среди этих тэгов правильный - совпадающий с word[0]\n",
    "            \n",
    "            is_correct = 0 # пока что будем считать, что правильного тэга нет, но если найдем, поменяем значение переменной\n",
    "            \n",
    "            for k in list_of_keys:\n",
    "                if k == word[0]:\n",
    "                    is_correct += 1 # если нашли тэг, совпадающий с word[0], меняем значение переменной\n",
    "\n",
    "            if is_correct > 0: # если значение переменной is_correct поменялось, значит, мы угадали!\n",
    "                correct_guesses += 1 # добавляем единичку в счетчик угаданных значений\n",
    "\n",
    "            all_guesses += 1 # вне зависимости от правильности угадывания, увеличиваем счетчик попыток угадать значение\n",
    "\n",
    "\n",
    "accuracy = correct_guesses / all_guesses # значение accuracy\n",
    "print(accuracy)"
   ]
  },
  {
   "cell_type": "markdown",
   "id": "a0105f6c-c5d0-4d21-9b9b-4395f96fbd98",
   "metadata": {},
   "source": [
    "Таким образом, при использовании метрики Жаккара точность получилась 0.34106947101657686, то есть примерно 34,11%."
   ]
  },
  {
   "cell_type": "code",
   "execution_count": 4,
   "id": "d79cbc92-3505-47c1-b3cd-dc110c156c59",
   "metadata": {},
   "outputs": [],
   "source": [
    "# подгружаем библиотеки\n",
    "\n",
    "from sklearn.metrics.pairwise import cosine_distances, cosine_similarity\n",
    "from sentence_transformers import SentenceTransformer"
   ]
  },
  {
   "cell_type": "code",
   "execution_count": 6,
   "id": "154e67a8-3b81-4ec4-ad73-16350d424f56",
   "metadata": {},
   "outputs": [],
   "source": [
    "# подгружаем модель\n",
    "\n",
    "model = SentenceTransformer('sentence-transformers/all-mpnet-base-v2')\n",
    "embed = model.encode"
   ]
  },
  {
   "cell_type": "code",
   "execution_count": null,
   "id": "69e1d0ed-cab4-462c-9959-857880c9fa03",
   "metadata": {},
   "outputs": [],
   "source": [
    "# теперь будем пробовать Cosine distance\n",
    "# сначала многие действия будут аналогичны тем, которые мы делали в случае с метрикой Жаккара\n",
    "\n",
    "correct_guesses = 0 # счетчик угаданных значений\n",
    "all_guesses = 0 # счетчик попыток угадать значение\n",
    "\n",
    "for sentence in corpus_wsd: # бежим по предложениям\n",
    "    for word in sentence: # внутри предложения бежим по словам\n",
    "        if word[0] != '': # рассматриваем только многозначные слова - у которых в первой ячейке что-то написано\n",
    "            sentence_string = '' # здесь будет строкой лежать контекст - всё предложение, в котором целевое слово заменено на нижнее подчеркивание\n",
    "            for word_1 in sentence:\n",
    "                if word_1 != word:\n",
    "                    sentence_string += word_1[2] + ' ' # для всех слов, кроме целевого, прибавляем их в контекст\n",
    "                else:\n",
    "                    sentence_string += '_ ' # целевое слово не добавляем, добавляем вместо него нижнее подчеркивание\n",
    "\n",
    "            # на этом этапе мы для данного слова имеем контекст, например: \"What a _ day!\" для слова word = \"beautyful\"\n",
    "            # далее будем доставать все возможные определения для этого слова и сравнивать каждое из них с контекстом:\n",
    "            \n",
    "            all_cosines = [] # здесь будет лежать список всех косинусных расстояний\n",
    "            \n",
    "            for synset in wn.synsets(word[1]): # идем по синсетам этого слова (здесь берем word[1], поскольку там лежит лемма слова)\n",
    "                new_definition = synset.definition() # вытаскиваем определения этого синсета\n",
    "                definition_emb = embed(new_definition) # делаем эмбеддинг определения\n",
    "                context_emb = embed(sentence_string) # делаем эмбеддинг контекста\n",
    "\n",
    "                # считаем косинусное расстояние:\n",
    "                \n",
    "                new_distance = cosine_distances(context_emb.reshape(1, -1), definition_emb.reshape(1, -1))\n",
    "                all_cosines.append([synset, new_distance[0][0]]) # добавили в список косинусных расстояний сам синсет + расстояние\n",
    "\n",
    "            # на этом этапе у нас есть список вида [[synset1, distance1], [synset2, distance2], ...]\n",
    "            # далее будем выискивать тот синсет / те синсеты, при котором / которых косинусное расстояние минимально\n",
    "            # важно: таких синсетов может быть несколько, и я бы хотела учесть их все, а не взять какой-то один случайный из них\n",
    "\n",
    "            min_synsets = [] # список таких синсетов\n",
    "            \n",
    "            min_cosine = all_cosines[0][1] # сюда положим предварительное минимальное значение метрики\n",
    "            \n",
    "            for cosine in all_cosines:\n",
    "                if cosine[1] == min_cosine: # если нашли что-то с таким же расстоянием, добавляем синсет в список min_synsets\n",
    "                    min_synsets.append(cosine[0])\n",
    "                elif cosine[1] < min_cosine: # если нашли что-то с расстоянием поменьше, то меняем min_cosine и полностью заменяем min_synset\n",
    "                    min_cosine = cosine[1]\n",
    "                    min_synsets = []\n",
    "                    min_synsets.append(cosine[0])\n",
    "\n",
    "            # на этом этапе мы знаем синсет(ы) с наименьшим косинусным расстоянием\n",
    "            # нам осталось сравнить эти синсеты с word[0] - то есть с тэгом многозначного слова, с которым мы работаем\n",
    "            \n",
    "            list_of_keys = [] # это список тэгов (поскольку у одного синсета может быть несколько лемм, а потому несколько тэгов)\n",
    "\n",
    "            for synset in min_synsets: # идем по всем синсетам с минимальным значением метрики\n",
    "                for lemma in synset.lemmas(): # идем по леммам каждого такого синсета\n",
    "                    list_of_keys.append(lemma.key()) # для каждой леммы вытаскиваем ее тэг\n",
    "\n",
    "            # сейчас у нас есть список тэгов данного синсета, и нам нужно понять, есть ли среди этих тэгов правильный - совпадающий с word[0]\n",
    "            \n",
    "            is_correct = 0 # пока что будем считать, что правильного тэга нет, но если найдем, поменяем значение переменной\n",
    "            \n",
    "            for k in list_of_keys:\n",
    "                if k == word[0]:\n",
    "                    is_correct += 1 # если нашли тэг, совпадающий с word[0], меняем значение переменной\n",
    "\n",
    "            if is_correct > 0: # если значение переменной is_correct поменялось, значит, мы угадали!\n",
    "                correct_guesses += 1 # добавляем единичку в счетчик угаданных значений\n",
    "\n",
    "            all_guesses += 1 # вне зависимости от правильности угадывания, увеличиваем счетчик попыток угадать значение\n",
    "\n",
    "\n",
    "accuracy = correct_guesses / all_guesses # значение accuracy\n",
    "print(accuracy)"
   ]
  },
  {
   "attachments": {
    "1a128d63-9bd7-4c58-aa81-cad327627ef0.png": {
     "image/png": "[encoded data removed]"
    }
   },
   "cell_type": "markdown",
   "id": "afbf142d-d7ab-4297-8801-063e7fc74ff4",
   "metadata": {},
   "source": [
    "К сожалению, программа работала очень долго (9,5 часов) и ничего не дала :( Я оставляла ее на ночь, но она сбилась, мне пришлось ее перезапускать с утра, а потом она работала 9,5 часов и я не смогла уже больше ждать...  \n",
    "![image.png](attachment:1a128d63-9bd7-4c58-aa81-cad327627ef0.png)  \n",
    "Вот запуск этой программы на маленькой части корпуса (первых 10 предложениях):"
   ]
  },
  {
   "cell_type": "code",
   "execution_count": 9,
   "id": "c02f7535-d2b8-4fb3-b5bd-7375c9744ac4",
   "metadata": {},
   "outputs": [
    {
     "name": "stdout",
     "output_type": "stream",
     "text": [
      "0.417910447761194\n"
     ]
    }
   ],
   "source": [
    "# Cosine distance на 10 предложениях\n",
    "\n",
    "correct_guesses = 0 # счетчик угаданных значений\n",
    "all_guesses = 0 # счетчик попыток угадать значение\n",
    "\n",
    "for sentence in corpus_wsd[:10]: # бежим по предложениям\n",
    "    for word in sentence: # внутри предложения бежим по словам\n",
    "        if word[0] != '': # рассматриваем только многозначные слова - у которых в первой ячейке что-то написано\n",
    "            sentence_string = '' # здесь будет строкой лежать контекст - всё предложение, в котором целевое слово заменено на нижнее подчеркивание\n",
    "            for word_1 in sentence:\n",
    "                if word_1 != word:\n",
    "                    sentence_string += word_1[2] + ' ' # для всех слов, кроме целевого, прибавляем их в контекст\n",
    "                else:\n",
    "                    sentence_string += '_ ' # целевое слово не добавляем, добавляем вместо него нижнее подчеркивание\n",
    "\n",
    "            # на этом этапе мы для данного слова имеем контекст, например: \"What a _ day!\" для слова word = \"beautyful\"\n",
    "            # далее будем доставать все возможные определения для этого слова и сравнивать каждое из них с контекстом:\n",
    "            \n",
    "            all_cosines = [] # здесь будет лежать список всех косинусных расстояний\n",
    "            \n",
    "            for synset in wn.synsets(word[1]): # идем по синсетам этого слова (здесь берем word[1], поскольку там лежит лемма слова)\n",
    "                new_definition = synset.definition() # вытаскиваем определения этого синсета\n",
    "                definition_emb = embed(new_definition) # делаем эмбеддинг определения\n",
    "                context_emb = embed(sentence_string) # делаем эмбеддинг контекста\n",
    "\n",
    "                # считаем косинусное расстояние:\n",
    "                \n",
    "                new_distance = cosine_distances(context_emb.reshape(1, -1), definition_emb.reshape(1, -1))\n",
    "                all_cosines.append([synset, new_distance[0][0]]) # добавили в список косинусных расстояний сам синсет + расстояние\n",
    "\n",
    "            # на этом этапе у нас есть список вида [[synset1, distance1], [synset2, distance2], ...]\n",
    "            # далее будем выискивать тот синсет / те синсеты, при котором / которых косинусное расстояние минимально\n",
    "            # важно: таких синсетов может быть несколько, и я бы хотела учесть их все, а не взять какой-то один случайный из них\n",
    "\n",
    "            min_synsets = [] # список таких синсетов\n",
    "            \n",
    "            min_cosine = all_cosines[0][1] # сюда положим предварительное минимальное значение метрики\n",
    "            \n",
    "            for cosine in all_cosines:\n",
    "                if cosine[1] == min_cosine: # если нашли что-то с таким же расстоянием, добавляем синсет в список min_synsets\n",
    "                    min_synsets.append(cosine[0])\n",
    "                elif cosine[1] < min_cosine: # если нашли что-то с расстоянием поменьше, то меняем min_cosine и полностью заменяем min_synset\n",
    "                    min_cosine = cosine[1]\n",
    "                    min_synsets = []\n",
    "                    min_synsets.append(cosine[0])\n",
    "\n",
    "            # на этом этапе мы знаем синсет(ы) с наименьшим косинусным расстоянием\n",
    "            # нам осталось сравнить эти синсеты с word[0] - то есть с тэгом многозначного слова, с которым мы работаем\n",
    "            \n",
    "            list_of_keys = [] # это список тэгов (поскольку у одного синсета может быть несколько лемм, а потому несколько тэгов)\n",
    "\n",
    "            for synset in min_synsets: # идем по всем синсетам с минимальным значением метрики\n",
    "                for lemma in synset.lemmas(): # идем по леммам каждого такого синсета\n",
    "                    list_of_keys.append(lemma.key()) # для каждой леммы вытаскиваем ее тэг\n",
    "\n",
    "            # сейчас у нас есть список тэгов данного синсета, и нам нужно понять, есть ли среди этих тэгов правильный - совпадающий с word[0]\n",
    "            \n",
    "            is_correct = 0 # пока что будем считать, что правильного тэга нет, но если найдем, поменяем значение переменной\n",
    "            \n",
    "            for k in list_of_keys:\n",
    "                if k == word[0]:\n",
    "                    is_correct += 1 # если нашли тэг, совпадающий с word[0], меняем значение переменной\n",
    "\n",
    "            if is_correct > 0: # если значение переменной is_correct поменялось, значит, мы угадали!\n",
    "                correct_guesses += 1 # добавляем единичку в счетчик угаданных значений\n",
    "\n",
    "            all_guesses += 1 # вне зависимости от правильности угадывания, увеличиваем счетчик попыток угадать значение\n",
    "\n",
    "\n",
    "accuracy = correct_guesses / all_guesses # значение accuracy\n",
    "print(accuracy)"
   ]
  },
  {
   "cell_type": "markdown",
   "id": "f69e8b89-f79e-4934-b391-8a60f43d5c99",
   "metadata": {},
   "source": [
    "Доля правильно угаданных значений - 0.417910447761194, то есть около 41,80%. Для сравнения, вот программа с Жаккаром на этих же десяти предложениях:"
   ]
  },
  {
   "cell_type": "code",
   "execution_count": 10,
   "id": "da83823a-08ab-49c2-b15f-b8d091fd1e95",
   "metadata": {},
   "outputs": [
    {
     "name": "stdout",
     "output_type": "stream",
     "text": [
      "0.34106947101657686\n"
     ]
    }
   ],
   "source": [
    "# Jaccard на 10 предложениях\n",
    "\n",
    "correct_guesses = 0 # счетчик угаданных значений\n",
    "all_guesses = 0 # счетчик попыток угадать значение\n",
    "\n",
    "for sentence in corpus_wsd: # бежим по предложениям\n",
    "    for word in sentence: # внутри предложения бежим по словам\n",
    "        if word[0] != '': # рассматриваем только многозначные слова - у которых в первой ячейке что-то написано\n",
    "            sentence_string = '' # здесь будет строкой лежать контекст - всё предложение, в котором целевое слово заменено на нижнее подчеркивание\n",
    "            for word_1 in sentence:\n",
    "                if word_1 != word:\n",
    "                    sentence_string += word_1[2] + ' ' # для всех слов, кроме целевого, прибавляем их в контекст\n",
    "                else:\n",
    "                    sentence_string += '_ ' # целевое слово не добавляем, добавляем вместо него нижнее подчеркивание\n",
    "\n",
    "            # на этом этапе мы для данного слова имеем контекст, например: \"What a _ day!\" для слова word = \"beautyful\"\n",
    "            # далее будем доставать все возможные определения для этого слова и сравнивать каждое из них с контекстом:\n",
    "            \n",
    "            all_jaccards = [] # здесь будет лежать список всех Жаккаров\n",
    "            \n",
    "            for synset in wn.synsets(word[1]): # идем по синсетам этого слова (здесь берем word[1], поскольку там лежит лемма слова)\n",
    "                new_definition = synset.definition() # вытаскиваем определения этого синсета\n",
    "\n",
    "                # считаем метрику Жаккара для этого определения и контекста - контекст лежит в sentence_string:\n",
    "                \n",
    "                new_intersection = (set(new_definition.split()) & set(sentence_string.split()))\n",
    "                new_union = (set(new_definition.split()) | set(sentence_string.split()))\n",
    "                new_jaccard =  len(new_intersection) / len(new_union) # посчитали метрику Жаккара сюда\n",
    "                all_jaccards.append([synset, new_jaccard]) # добавили в список Жаккаров сам синсет + метрику Жаккара для него\n",
    "\n",
    "            # на этом этапе у нас есть список вида [[synset1, jaccard1], [synset2, jaccard2], ...]\n",
    "            # далее будем выискивать тот синсет / те синсеты, при котором / которых метрика Жаккара принимает наибольшее значение\n",
    "            # важно: таких синсетов может быть несколько, и я бы хотела учесть их все, а не взять какой-то один случайный из них\n",
    "\n",
    "            max_synsets = [] # список таких синсетов\n",
    "            \n",
    "            max_jaccard = all_jaccards[0][1] # сюда положим предварительное максимальное значение Жаккара\n",
    "            \n",
    "            for jaccard in all_jaccards:\n",
    "                if jaccard[1] == max_jaccard: # если нашли что-то с таким же Жаккаром, добавляем синсет в список max_synsets\n",
    "                    max_synsets.append(jaccard[0])\n",
    "                elif jaccard[1] > max_jaccard: # если нашли что-то с Жаккаром побольше, то меняем max_jaccard и полностью заменяем max_synset\n",
    "                    max_jaccard = jaccard[1]\n",
    "                    max_synsets = []\n",
    "                    max_synsets.append(jaccard[0])\n",
    "\n",
    "            # на этом этапе мы знаем синсет(ы) с наибольшим значением метрики Жаккара\n",
    "            # нам осталось сравнить эти синсеты с word[0] - то есть с тэгом многозначного слова, с которым мы работаем\n",
    "            \n",
    "            list_of_keys = [] # это список тэгов (поскольку у одного синсета может быть несколько лемм, а потому несколько тэгов)\n",
    "\n",
    "            for synset in max_synsets: # идем по всем синсетам с максимальным значением Жаккара\n",
    "                for lemma in synset.lemmas(): # идем по леммам каждого такого синсета\n",
    "                    list_of_keys.append(lemma.key()) # для каждой леммы вытаскиваем ее тэг\n",
    "\n",
    "            # сейчас у нас есть список тэгов данного синсета, и нам нужно понять, есть ли среди этих тэгов правильный - совпадающий с word[0]\n",
    "            \n",
    "            is_correct = 0 # пока что будем считать, что правильного тэга нет, но если найдем, поменяем значение переменной\n",
    "            \n",
    "            for k in list_of_keys:\n",
    "                if k == word[0]:\n",
    "                    is_correct += 1 # если нашли тэг, совпадающий с word[0], меняем значение переменной\n",
    "\n",
    "            if is_correct > 0: # если значение переменной is_correct поменялось, значит, мы угадали!\n",
    "                correct_guesses += 1 # добавляем единичку в счетчик угаданных значений\n",
    "\n",
    "            all_guesses += 1 # вне зависимости от правильности угадывания, увеличиваем счетчик попыток угадать значение\n",
    "\n",
    "\n",
    "accuracy = correct_guesses / all_guesses # значение accuracy\n",
    "print(accuracy)"
   ]
  },
  {
   "cell_type": "markdown",
   "id": "39efde9a-af0b-4c94-bfd0-249e7054562f",
   "metadata": {},
   "source": [
    "# Задание 2 (5 балла)\n",
    "Попробуйте разные алгоритмы кластеризации на датасете - `https://github.com/nlpub/russe-wsi-kit/blob/initial/data/main/wiki-wiki/train.csv`\n",
    "\n",
    "Используйте код из семинара как основу. Используйте ARI как метрику качества.\n",
    "\n",
    "Попробуйте все 4 алгоритма кластеризации, про которые говорилось на семинаре. Для каждого из алгоритмов попробуйте настраивать гиперпараметры (посмотрите их в документации). Прогоните как минимум 5 экспериментов (не обязательно успешных) с разными параметрами на каждый алгоритме кластеризации и оцените: качество кластеризации, скорость работы, интуитивность параметров.\n",
    "\n",
    "Помимо этого также выберите 1 дополнительный алгоритм кластеризации отсюда - https://scikit-learn.org/stable/modules/clustering.html , опишите своими словами принцип его работы  и проделайте аналогичные эксперименты. "
   ]
  },
  {
   "cell_type": "code",
   "execution_count": 12,
   "id": "d59bef3e-1af7-4ce2-b43a-dfef282050f2",
   "metadata": {},
   "outputs": [],
   "source": [
    "# загрузка датасета\n",
    "\n",
    "import pandas as pd\n",
    "df = pd.read_csv('https://raw.githubusercontent.com/nlpub/russe-wsi-kit/initial/data/main/wiki-wiki/train.csv', sep='\\t')\n",
    "grouped_df = df.groupby('word')[['word', 'context', 'gold_sense_id']]"
   ]
  },
  {
   "cell_type": "code",
   "execution_count": 27,
   "id": "1bec24be-d835-4bd7-a976-2aa613257ee2",
   "metadata": {},
   "outputs": [],
   "source": [
    "# библиотеки для кластеризации\n",
    "\n",
    "from sklearn.cluster import KMeans, DBSCAN, AffinityPropagation, AgglomerativeClustering, BisectingKMeans\n",
    "import numpy as np\n",
    "from sklearn.metrics import adjusted_rand_score"
   ]
  },
  {
   "cell_type": "code",
   "execution_count": 14,
   "id": "722aa80a-19bb-4870-9d8f-824fbd730e92",
   "metadata": {},
   "outputs": [
    {
     "name": "stdout",
     "output_type": "stream",
     "text": [
      "0.054321186256441556\n"
     ]
    }
   ],
   "source": [
    "# алгоритм KMeans\n",
    "\n",
    "ARI = []\n",
    "\n",
    "for key, _ in grouped_df:\n",
    "    texts = grouped_df.get_group(key)['context'].values\n",
    "    X = np.zeros((len(texts), 768))\n",
    "    for i, text in enumerate(texts):\n",
    "        X[i] = embed(text)\n",
    "\n",
    "    # делим на три кластера\n",
    "    cluster = KMeans(3)\n",
    "    \n",
    "    cluster.fit(X)\n",
    "    labels = np.array(cluster.labels_)+1 \n",
    "    ARI.append(adjusted_rand_score(grouped_df.get_group(key)['gold_sense_id'], labels))\n",
    "    \n",
    "print(np.mean(ARI))"
   ]
  },
  {
   "cell_type": "code",
   "execution_count": 15,
   "id": "39f2fd11-64bb-418e-99c6-be1aca80fca4",
   "metadata": {},
   "outputs": [
    {
     "name": "stdout",
     "output_type": "stream",
     "text": [
      "0.058898405219530645\n"
     ]
    }
   ],
   "source": [
    "# алгоритм KMeans\n",
    "\n",
    "ARI = []\n",
    "\n",
    "for key, _ in grouped_df:\n",
    "    texts = grouped_df.get_group(key)['context'].values\n",
    "    X = np.zeros((len(texts), 768))\n",
    "    for i, text in enumerate(texts):\n",
    "        X[i] = embed(text)\n",
    "\n",
    "    # делим на четыре кластера\n",
    "    cluster = KMeans(4)\n",
    "    \n",
    "    cluster.fit(X)\n",
    "    labels = np.array(cluster.labels_)+1 \n",
    "    ARI.append(adjusted_rand_score(grouped_df.get_group(key)['gold_sense_id'], labels))\n",
    "    \n",
    "print(np.mean(ARI))"
   ]
  },
  {
   "cell_type": "code",
   "execution_count": 17,
   "id": "b34165b2-1e57-4992-8a2f-49377d5012dd",
   "metadata": {},
   "outputs": [
    {
     "name": "stdout",
     "output_type": "stream",
     "text": [
      "0.04381089488387982\n"
     ]
    }
   ],
   "source": [
    "# алгоритм KMeans\n",
    "\n",
    "ARI = []\n",
    "\n",
    "for key, _ in grouped_df:\n",
    "    texts = grouped_df.get_group(key)['context'].values\n",
    "    X = np.zeros((len(texts), 768))\n",
    "    for i, text in enumerate(texts):\n",
    "        X[i] = embed(text)\n",
    "\n",
    "    # делим на пять кластеров\n",
    "    cluster = KMeans(5)\n",
    "    \n",
    "    cluster.fit(X)\n",
    "    labels = np.array(cluster.labels_)+1 \n",
    "    ARI.append(adjusted_rand_score(grouped_df.get_group(key)['gold_sense_id'], labels))\n",
    "    \n",
    "print(np.mean(ARI))"
   ]
  },
  {
   "cell_type": "code",
   "execution_count": 18,
   "id": "3f3affcc-9b25-407a-b89c-0e5bc245f2fa",
   "metadata": {},
   "outputs": [
    {
     "name": "stdout",
     "output_type": "stream",
     "text": [
      "0.07195226820006335\n"
     ]
    }
   ],
   "source": [
    "# алгоритм KMeans\n",
    "\n",
    "ARI = []\n",
    "\n",
    "for key, _ in grouped_df:\n",
    "    texts = grouped_df.get_group(key)['context'].values\n",
    "    X = np.zeros((len(texts), 768))\n",
    "    for i, text in enumerate(texts):\n",
    "        X[i] = embed(text)\n",
    "\n",
    "    # делим на шесть кластеров\n",
    "    cluster = KMeans(6)\n",
    "    \n",
    "    cluster.fit(X)\n",
    "    labels = np.array(cluster.labels_)+1 \n",
    "    ARI.append(adjusted_rand_score(grouped_df.get_group(key)['gold_sense_id'], labels))\n",
    "    \n",
    "print(np.mean(ARI))"
   ]
  },
  {
   "cell_type": "code",
   "execution_count": 19,
   "id": "46a19d76-f2de-4f9b-a8d9-d75ca3cf049b",
   "metadata": {},
   "outputs": [
    {
     "name": "stdout",
     "output_type": "stream",
     "text": [
      "0.03580086941376679\n"
     ]
    }
   ],
   "source": [
    "# алгоритм KMeans\n",
    "\n",
    "ARI = []\n",
    "\n",
    "for key, _ in grouped_df:\n",
    "    texts = grouped_df.get_group(key)['context'].values\n",
    "    X = np.zeros((len(texts), 768))\n",
    "    for i, text in enumerate(texts):\n",
    "        X[i] = embed(text)\n",
    "\n",
    "    # делим на семь кластеров\n",
    "    cluster = KMeans(7)\n",
    "    \n",
    "    cluster.fit(X)\n",
    "    labels = np.array(cluster.labels_)+1 \n",
    "    ARI.append(adjusted_rand_score(grouped_df.get_group(key)['gold_sense_id'], labels))\n",
    "    \n",
    "print(np.mean(ARI))"
   ]
  },
  {
   "cell_type": "code",
   "execution_count": 20,
   "id": "17f21171-73f5-489e-9250-44a3fbfde20c",
   "metadata": {},
   "outputs": [
    {
     "name": "stdout",
     "output_type": "stream",
     "text": [
      "0.001053019960000099\n"
     ]
    }
   ],
   "source": [
    "# алгоритм DBSCAN\n",
    "\n",
    "ARI = []\n",
    "\n",
    "for key, _ in grouped_df:\n",
    "    texts = grouped_df.get_group(key)['context'].values\n",
    "    X = np.zeros((len(texts), 768))\n",
    "    for i, text in enumerate(texts):\n",
    "        X[i] = embed(text)\n",
    "\n",
    "    # настраиваем параметры\n",
    "    cluster = DBSCAN(min_samples = 1, eps = 0.1)\n",
    "    \n",
    "    cluster.fit(X)\n",
    "    labels = np.array(cluster.labels_)+1 \n",
    "    ARI.append(adjusted_rand_score(grouped_df.get_group(key)['gold_sense_id'], labels))\n",
    "    \n",
    "print(np.mean(ARI))"
   ]
  },
  {
   "cell_type": "code",
   "execution_count": 21,
   "id": "f0f7d9e8-c422-44c6-930d-52d1c85cc735",
   "metadata": {},
   "outputs": [
    {
     "name": "stdout",
     "output_type": "stream",
     "text": [
      "-0.0021290615824144776\n"
     ]
    }
   ],
   "source": [
    "# алгоритм DBSCAN\n",
    "\n",
    "ARI = []\n",
    "\n",
    "for key, _ in grouped_df:\n",
    "    texts = grouped_df.get_group(key)['context'].values\n",
    "    X = np.zeros((len(texts), 768))\n",
    "    for i, text in enumerate(texts):\n",
    "        X[i] = embed(text)\n",
    "\n",
    "    # настраиваем параметры\n",
    "    cluster = DBSCAN(min_samples = 3, eps = 0.1)\n",
    "    \n",
    "    cluster.fit(X)\n",
    "    labels = np.array(cluster.labels_)+1 \n",
    "    ARI.append(adjusted_rand_score(grouped_df.get_group(key)['gold_sense_id'], labels))\n",
    "    \n",
    "print(np.mean(ARI))"
   ]
  },
  {
   "cell_type": "code",
   "execution_count": 22,
   "id": "986bec82-87dd-4862-96e6-2eb8f174b253",
   "metadata": {},
   "outputs": [
    {
     "name": "stdout",
     "output_type": "stream",
     "text": [
      "0.00443342207693399\n"
     ]
    }
   ],
   "source": [
    "# алгоритм DBSCAN\n",
    "\n",
    "ARI = []\n",
    "\n",
    "for key, _ in grouped_df:\n",
    "    texts = grouped_df.get_group(key)['context'].values\n",
    "    X = np.zeros((len(texts), 768))\n",
    "    for i, text in enumerate(texts):\n",
    "        X[i] = embed(text)\n",
    "\n",
    "    # настраиваем параметры\n",
    "    cluster = DBSCAN(min_samples = 1, eps = 0.2)\n",
    "    \n",
    "    cluster.fit(X)\n",
    "    labels = np.array(cluster.labels_)+1 \n",
    "    ARI.append(adjusted_rand_score(grouped_df.get_group(key)['gold_sense_id'], labels))\n",
    "    \n",
    "print(np.mean(ARI))"
   ]
  },
  {
   "cell_type": "code",
   "execution_count": 23,
   "id": "e9178796-68bb-45e8-9ff8-88bbd92b51af",
   "metadata": {},
   "outputs": [
    {
     "name": "stdout",
     "output_type": "stream",
     "text": [
      "0.046628449087722304\n"
     ]
    }
   ],
   "source": [
    "# алгоритм DBSCAN\n",
    "\n",
    "ARI = []\n",
    "\n",
    "for key, _ in grouped_df:\n",
    "    texts = grouped_df.get_group(key)['context'].values\n",
    "    X = np.zeros((len(texts), 768))\n",
    "    for i, text in enumerate(texts):\n",
    "        X[i] = embed(text)\n",
    "\n",
    "    # настраиваем параметры\n",
    "    cluster = DBSCAN(min_samples = 1, eps = 0.5)\n",
    "    \n",
    "    cluster.fit(X)\n",
    "    labels = np.array(cluster.labels_)+1 \n",
    "    ARI.append(adjusted_rand_score(grouped_df.get_group(key)['gold_sense_id'], labels))\n",
    "    \n",
    "print(np.mean(ARI))"
   ]
  },
  {
   "cell_type": "code",
   "execution_count": 24,
   "id": "02dfe277-118a-4508-99ad-f4a4262ee8c9",
   "metadata": {},
   "outputs": [
    {
     "name": "stdout",
     "output_type": "stream",
     "text": [
      "-0.0016975060994403033\n"
     ]
    }
   ],
   "source": [
    "# алгоритм DBSCAN\n",
    "\n",
    "ARI = []\n",
    "\n",
    "for key, _ in grouped_df:\n",
    "    texts = grouped_df.get_group(key)['context'].values\n",
    "    X = np.zeros((len(texts), 768))\n",
    "    for i, text in enumerate(texts):\n",
    "        X[i] = embed(text)\n",
    "\n",
    "    # настраиваем параметры\n",
    "    cluster = DBSCAN(min_samples = 1, eps = 0.8)\n",
    "    \n",
    "    cluster.fit(X)\n",
    "    labels = np.array(cluster.labels_)+1 \n",
    "    ARI.append(adjusted_rand_score(grouped_df.get_group(key)['gold_sense_id'], labels))\n",
    "    \n",
    "print(np.mean(ARI))"
   ]
  },
  {
   "cell_type": "code",
   "execution_count": 25,
   "id": "4fd94f5c-a843-47fe-ab0e-9766bdbdd344",
   "metadata": {},
   "outputs": [
    {
     "name": "stdout",
     "output_type": "stream",
     "text": [
      "0.05297560306165972\n"
     ]
    }
   ],
   "source": [
    "# алгоритм Affinity Propagation\n",
    "\n",
    "ARI = []\n",
    "\n",
    "for key, _ in grouped_df:\n",
    "    texts = grouped_df.get_group(key)['context'].values\n",
    "    X = np.zeros((len(texts), 768))\n",
    "    for i, text in enumerate(texts):\n",
    "        X[i] = embed(text)\n",
    "\n",
    "    # настраиваем параметры\n",
    "    cluster = AffinityPropagation(damping = 0.9)\n",
    "    \n",
    "    cluster.fit(X)\n",
    "    labels = np.array(cluster.labels_)+1 \n",
    "    ARI.append(adjusted_rand_score(grouped_df.get_group(key)['gold_sense_id'], labels))\n",
    "    \n",
    "print(np.mean(ARI))"
   ]
  },
  {
   "cell_type": "code",
   "execution_count": 26,
   "id": "0949213a-4982-46c5-ae89-abcb65b318a1",
   "metadata": {},
   "outputs": [
    {
     "name": "stdout",
     "output_type": "stream",
     "text": [
      "0.04154515818974152\n"
     ]
    }
   ],
   "source": [
    "# алгоритм Affinity Propagation\n",
    "\n",
    "ARI = []\n",
    "\n",
    "for key, _ in grouped_df:\n",
    "    texts = grouped_df.get_group(key)['context'].values\n",
    "    X = np.zeros((len(texts), 768))\n",
    "    for i, text in enumerate(texts):\n",
    "        X[i] = embed(text)\n",
    "\n",
    "    # настраиваем параметры\n",
    "    cluster = AffinityPropagation(damping = 0.8)\n",
    "    \n",
    "    cluster.fit(X)\n",
    "    labels = np.array(cluster.labels_)+1 \n",
    "    ARI.append(adjusted_rand_score(grouped_df.get_group(key)['gold_sense_id'], labels))\n",
    "    \n",
    "print(np.mean(ARI))"
   ]
  },
  {
   "cell_type": "code",
   "execution_count": 33,
   "id": "b5b23212-5629-428d-b661-2afca77f49a5",
   "metadata": {},
   "outputs": [
    {
     "name": "stdout",
     "output_type": "stream",
     "text": [
      "0.042740969848549505\n"
     ]
    }
   ],
   "source": [
    "# алгоритм Affinity Propagation\n",
    "\n",
    "ARI = []\n",
    "\n",
    "for key, _ in grouped_df:\n",
    "    texts = grouped_df.get_group(key)['context'].values\n",
    "    X = np.zeros((len(texts), 768))\n",
    "    for i, text in enumerate(texts):\n",
    "        X[i] = embed(text)\n",
    "\n",
    "    # настраиваем параметры\n",
    "    cluster = AffinityPropagation(damping = 0.5)\n",
    "    \n",
    "    cluster.fit(X)\n",
    "    labels = np.array(cluster.labels_)+1 \n",
    "    ARI.append(adjusted_rand_score(grouped_df.get_group(key)['gold_sense_id'], labels))\n",
    "    \n",
    "print(np.mean(ARI))"
   ]
  },
  {
   "cell_type": "code",
   "execution_count": 34,
   "id": "a93debbd-f40c-496c-b560-7cefd1ffe20c",
   "metadata": {},
   "outputs": [
    {
     "name": "stderr",
     "output_type": "stream",
     "text": [
      "c:\\users\\irina\\appdata\\local\\programs\\python\\python39\\lib\\site-packages\\sklearn\\cluster\\_affinity_propagation.py:164: ConvergenceWarning: Affinity propagation did not converge and this model will not have any cluster centers.\n",
      "  warnings.warn(\n",
      "c:\\users\\irina\\appdata\\local\\programs\\python\\python39\\lib\\site-packages\\sklearn\\cluster\\_affinity_propagation.py:142: ConvergenceWarning: Affinity propagation did not converge, this model may return degenerate cluster centers and labels.\n",
      "  warnings.warn(\n",
      "c:\\users\\irina\\appdata\\local\\programs\\python\\python39\\lib\\site-packages\\sklearn\\cluster\\_affinity_propagation.py:142: ConvergenceWarning: Affinity propagation did not converge, this model may return degenerate cluster centers and labels.\n",
      "  warnings.warn(\n"
     ]
    },
    {
     "name": "stdout",
     "output_type": "stream",
     "text": [
      "0.02111210700136976\n"
     ]
    },
    {
     "name": "stderr",
     "output_type": "stream",
     "text": [
      "c:\\users\\irina\\appdata\\local\\programs\\python\\python39\\lib\\site-packages\\sklearn\\cluster\\_affinity_propagation.py:164: ConvergenceWarning: Affinity propagation did not converge and this model will not have any cluster centers.\n",
      "  warnings.warn(\n"
     ]
    }
   ],
   "source": [
    "# алгоритм Affinity Propagation\n",
    "\n",
    "ARI = []\n",
    "\n",
    "for key, _ in grouped_df:\n",
    "    texts = grouped_df.get_group(key)['context'].values\n",
    "    X = np.zeros((len(texts), 768))\n",
    "    for i, text in enumerate(texts):\n",
    "        X[i] = embed(text)\n",
    "\n",
    "    # настраиваем параметры\n",
    "    cluster = AffinityPropagation(damping = 0.9, max_iter = 10)\n",
    "    \n",
    "    cluster.fit(X)\n",
    "    labels = np.array(cluster.labels_)+1 \n",
    "    ARI.append(adjusted_rand_score(grouped_df.get_group(key)['gold_sense_id'], labels))\n",
    "    \n",
    "print(np.mean(ARI))"
   ]
  },
  {
   "cell_type": "code",
   "execution_count": 35,
   "id": "57a05f93-94e3-4c5a-ab3f-eeb007e048b0",
   "metadata": {},
   "outputs": [
    {
     "name": "stdout",
     "output_type": "stream",
     "text": [
      "0.021849897349496914\n"
     ]
    }
   ],
   "source": [
    "# алгоритм Affinity Propagation\n",
    "\n",
    "ARI = []\n",
    "\n",
    "for key, _ in grouped_df:\n",
    "    texts = grouped_df.get_group(key)['context'].values\n",
    "    X = np.zeros((len(texts), 768))\n",
    "    for i, text in enumerate(texts):\n",
    "        X[i] = embed(text)\n",
    "\n",
    "    # настраиваем параметры\n",
    "    cluster = AffinityPropagation(damping = 0.9, convergence_iter = 2)\n",
    "    \n",
    "    cluster.fit(X)\n",
    "    labels = np.array(cluster.labels_)+1 \n",
    "    ARI.append(adjusted_rand_score(grouped_df.get_group(key)['gold_sense_id'], labels))\n",
    "    \n",
    "print(np.mean(ARI))"
   ]
  },
  {
   "cell_type": "code",
   "execution_count": 30,
   "id": "ed9241c8-048a-486a-a3fe-9acc4e2b91ba",
   "metadata": {},
   "outputs": [
    {
     "name": "stdout",
     "output_type": "stream",
     "text": [
      "0.034738071269679226\n"
     ]
    }
   ],
   "source": [
    "# алгоритм Agglomerative Clustering\n",
    "\n",
    "ARI = []\n",
    "\n",
    "for key, _ in grouped_df:\n",
    "    texts = grouped_df.get_group(key)['context'].values\n",
    "    X = np.zeros((len(texts), 768))\n",
    "    for i, text in enumerate(texts):\n",
    "        X[i] = embed(text)\n",
    "\n",
    "    # настраиваем параметры\n",
    "    cluster = AgglomerativeClustering(3)\n",
    "    \n",
    "    cluster.fit(X)\n",
    "    labels = np.array(cluster.labels_)+1 \n",
    "    ARI.append(adjusted_rand_score(grouped_df.get_group(key)['gold_sense_id'], labels))\n",
    "    \n",
    "print(np.mean(ARI))"
   ]
  },
  {
   "cell_type": "code",
   "execution_count": 31,
   "id": "0b8069cc-29a3-4948-a8df-fa0f2c5673de",
   "metadata": {},
   "outputs": [
    {
     "name": "stdout",
     "output_type": "stream",
     "text": [
      "0.038617257915792846\n"
     ]
    }
   ],
   "source": [
    "# алгоритм Agglomerative Clustering\n",
    "\n",
    "ARI = []\n",
    "\n",
    "for key, _ in grouped_df:\n",
    "    texts = grouped_df.get_group(key)['context'].values\n",
    "    X = np.zeros((len(texts), 768))\n",
    "    for i, text in enumerate(texts):\n",
    "        X[i] = embed(text)\n",
    "\n",
    "    # настраиваем параметры\n",
    "    cluster = AgglomerativeClustering(4)\n",
    "    \n",
    "    cluster.fit(X)\n",
    "    labels = np.array(cluster.labels_)+1 \n",
    "    ARI.append(adjusted_rand_score(grouped_df.get_group(key)['gold_sense_id'], labels))\n",
    "    \n",
    "print(np.mean(ARI))"
   ]
  },
  {
   "cell_type": "code",
   "execution_count": 32,
   "id": "f8cbafbe-6a8f-4958-9d68-653b0a1046cf",
   "metadata": {},
   "outputs": [
    {
     "name": "stdout",
     "output_type": "stream",
     "text": [
      "0.03957581346650506\n"
     ]
    }
   ],
   "source": [
    "# алгоритм Agglomerative Clustering\n",
    "\n",
    "ARI = []\n",
    "\n",
    "for key, _ in grouped_df:\n",
    "    texts = grouped_df.get_group(key)['context'].values\n",
    "    X = np.zeros((len(texts), 768))\n",
    "    for i, text in enumerate(texts):\n",
    "        X[i] = embed(text)\n",
    "\n",
    "    # настраиваем параметры\n",
    "    cluster = AgglomerativeClustering(6)\n",
    "    \n",
    "    cluster.fit(X)\n",
    "    labels = np.array(cluster.labels_)+1 \n",
    "    ARI.append(adjusted_rand_score(grouped_df.get_group(key)['gold_sense_id'], labels))\n",
    "    \n",
    "print(np.mean(ARI))"
   ]
  },
  {
   "cell_type": "code",
   "execution_count": 36,
   "id": "835fc092-f4a0-4414-81ac-cf208ebe8cbc",
   "metadata": {},
   "outputs": [
    {
     "name": "stdout",
     "output_type": "stream",
     "text": [
      "0.057641599566266404\n"
     ]
    }
   ],
   "source": [
    "# алгоритм Agglomerative Clustering\n",
    "\n",
    "ARI = []\n",
    "\n",
    "for key, _ in grouped_df:\n",
    "    texts = grouped_df.get_group(key)['context'].values\n",
    "    X = np.zeros((len(texts), 768))\n",
    "    for i, text in enumerate(texts):\n",
    "        X[i] = embed(text)\n",
    "\n",
    "    # настраиваем параметры\n",
    "    cluster = AgglomerativeClustering(8)\n",
    "    \n",
    "    cluster.fit(X)\n",
    "    labels = np.array(cluster.labels_)+1 \n",
    "    ARI.append(adjusted_rand_score(grouped_df.get_group(key)['gold_sense_id'], labels))\n",
    "    \n",
    "print(np.mean(ARI))"
   ]
  },
  {
   "cell_type": "code",
   "execution_count": 37,
   "id": "2cbf2b5e-dc9c-4c11-a0b2-288f1b1a9051",
   "metadata": {},
   "outputs": [
    {
     "name": "stdout",
     "output_type": "stream",
     "text": [
      "-0.011976265536517934\n"
     ]
    }
   ],
   "source": [
    "# алгоритм Agglomerative Clustering\n",
    "\n",
    "ARI = []\n",
    "\n",
    "for key, _ in grouped_df:\n",
    "    texts = grouped_df.get_group(key)['context'].values\n",
    "    X = np.zeros((len(texts), 768))\n",
    "    for i, text in enumerate(texts):\n",
    "        X[i] = embed(text)\n",
    "\n",
    "    # настраиваем параметры\n",
    "    cluster = AgglomerativeClustering(2)\n",
    "    \n",
    "    cluster.fit(X)\n",
    "    labels = np.array(cluster.labels_)+1 \n",
    "    ARI.append(adjusted_rand_score(grouped_df.get_group(key)['gold_sense_id'], labels))\n",
    "    \n",
    "print(np.mean(ARI))"
   ]
  },
  {
   "cell_type": "markdown",
   "id": "ef579193-8404-4873-9e80-c05baa63bbd4",
   "metadata": {},
   "source": [
    "Дополнительный алгоритм - Bisecting K-Means. Он похож на обычный K-Means, но только он итеративный: в нем центры кластеров выбираются не сразу все рандомно, а постепенно, в зависимости от уже определенных ранее кластеров.  \n",
    "Поскольку алгоритм K-Means показал наилучший результат на шести кластерах, а алгоритм Agglomerative Clustering - на восьми кластерах, я и здесь сразу проведу эксперимент на шести и на восьми кластерах, а также, для сравнения, на четырех."
   ]
  },
  {
   "cell_type": "code",
   "execution_count": 28,
   "id": "66287fe9-c248-4ef8-b810-671905c846c6",
   "metadata": {},
   "outputs": [
    {
     "name": "stdout",
     "output_type": "stream",
     "text": [
      "0.04058406948714827\n"
     ]
    }
   ],
   "source": [
    "# алгоритм BisectingKMeans\n",
    "\n",
    "ARI = []\n",
    "\n",
    "for key, _ in grouped_df:\n",
    "    texts = grouped_df.get_group(key)['context'].values\n",
    "    X = np.zeros((len(texts), 768))\n",
    "    for i, text in enumerate(texts):\n",
    "        X[i] = embed(text)\n",
    "\n",
    "    # делим на шесть кластеров\n",
    "    cluster = BisectingKMeans(6)\n",
    "    \n",
    "    cluster.fit(X)\n",
    "    labels = np.array(cluster.labels_)+1 \n",
    "    ARI.append(adjusted_rand_score(grouped_df.get_group(key)['gold_sense_id'], labels))\n",
    "    \n",
    "print(np.mean(ARI))"
   ]
  },
  {
   "cell_type": "code",
   "execution_count": 38,
   "id": "8148836d-8da6-4daa-9f2a-86545b29b538",
   "metadata": {},
   "outputs": [
    {
     "name": "stdout",
     "output_type": "stream",
     "text": [
      "0.03943342693143612\n"
     ]
    }
   ],
   "source": [
    "# алгоритм BisectingKMeans\n",
    "\n",
    "ARI = []\n",
    "\n",
    "for key, _ in grouped_df:\n",
    "    texts = grouped_df.get_group(key)['context'].values\n",
    "    X = np.zeros((len(texts), 768))\n",
    "    for i, text in enumerate(texts):\n",
    "        X[i] = embed(text)\n",
    "\n",
    "    # делим на четыре кластера\n",
    "    cluster = BisectingKMeans(8)\n",
    "    \n",
    "    cluster.fit(X)\n",
    "    labels = np.array(cluster.labels_)+1 \n",
    "    ARI.append(adjusted_rand_score(grouped_df.get_group(key)['gold_sense_id'], labels))\n",
    "    \n",
    "print(np.mean(ARI))"
   ]
  },
  {
   "cell_type": "code",
   "execution_count": 29,
   "id": "0d77ffa8-e576-4079-9608-cf34ca31c5e7",
   "metadata": {},
   "outputs": [
    {
     "name": "stdout",
     "output_type": "stream",
     "text": [
      "0.09886769997985852\n"
     ]
    }
   ],
   "source": [
    "# алгоритм BisectingKMeans\n",
    "\n",
    "ARI = []\n",
    "\n",
    "for key, _ in grouped_df:\n",
    "    texts = grouped_df.get_group(key)['context'].values\n",
    "    X = np.zeros((len(texts), 768))\n",
    "    for i, text in enumerate(texts):\n",
    "        X[i] = embed(text)\n",
    "\n",
    "    # делим на четыре кластера\n",
    "    cluster = BisectingKMeans(4)\n",
    "    \n",
    "    cluster.fit(X)\n",
    "    labels = np.array(cluster.labels_)+1 \n",
    "    ARI.append(adjusted_rand_score(grouped_df.get_group(key)['gold_sense_id'], labels))\n",
    "    \n",
    "print(np.mean(ARI))"
   ]
  }
 ],
 "metadata": {
  "kernelspec": {
   "display_name": "Python 3 (ipykernel)",
   "language": "python",
   "name": "python3"
  },
  "language_info": {
   "codemirror_mode": {
    "name": "ipython",
    "version": 3
   },
   "file_extension": ".py",
   "mimetype": "text/x-python",
   "name": "python",
   "nbconvert_exporter": "python",
   "pygments_lexer": "ipython3",
   "version": "3.9.5"
  }
 },
 "nbformat": 4,
 "nbformat_minor": 5
}
